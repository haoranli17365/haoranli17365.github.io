{
 "cells": [
  {
   "cell_type": "markdown",
   "metadata": {},
   "source": [
    "# Analysis of Diet and COVID-19"
   ]
  },
  {
   "cell_type": "markdown",
   "metadata": {},
   "source": [
    "## Introduction\n",
    "---------\n",
    "Since the start of the COVID-19 pandemic early this year, people have taken various measurements, such as social distancing, self-isolation, avoid large gathering, and mandetory curfew in some countries, to prevent the spread of the disease. However, is this the only way that we can stay safe before a vaccine becoming avaliable to the general pubic? \n",
    "\n",
    "In this tutorial, we are trying to explore how our **diet** would help us combat the coronavirus. "
   ]
  },
  {
   "cell_type": "markdown",
   "metadata": {},
   "source": [
    "## Libaraies Used\n",
    "--------------\n",
    "For this tutorial, we will be using several python libraries and we will assume that you are familiar with these libaraies. Below is a module checklist for what you need to get started. \n",
    "- **numpy**\n",
    "- **pandas**\n",
    "- **scikit-learn**\n",
    "- **matplotlib**"
   ]
  },
  {
   "cell_type": "code",
   "execution_count": 11,
   "metadata": {},
   "outputs": [],
   "source": [
    "# all the modules we need for this tutorial\n",
    "import pandas as pd\n",
    "import numpy as np\n",
    "import sklearn\n",
    "import matplotlib.pyplot as plt"
   ]
  },
  {
   "cell_type": "markdown",
   "metadata": {},
   "source": [
    "## Data Collection\n",
    "--------\n",
    "The data that we found is from [kaggle.com(click to check & download)](https://www.kaggle.com/mariaren/covid19-healthy-diet-dataset?select=Supply_Food_Data_Descriptions.csv), which contains already collected diet data along with COVID-19 data. In this tutorial, we will be using **\"Food_Supply_Quantity_kg_Data.csv\"** and **\"Supply_Food_Data_Descriptions.csv\"** as our data source. (All the COVID-19 related data from this source are updated at 12/3/2020.)\n",
    "\n",
    "Now it comes to our first step, we want to store our collected data from the CSV source we just obtain to the pandas dataframe. Below is one of the ways we can approach it, using the function `pd.read_csv()` from pandas module."
   ]
  },
  {
   "cell_type": "code",
   "execution_count": 2,
   "metadata": {},
   "outputs": [
    {
     "data": {
      "text/html": [
       "<div>\n",
       "<style scoped>\n",
       "    .dataframe tbody tr th:only-of-type {\n",
       "        vertical-align: middle;\n",
       "    }\n",
       "\n",
       "    .dataframe tbody tr th {\n",
       "        vertical-align: top;\n",
       "    }\n",
       "\n",
       "    .dataframe thead th {\n",
       "        text-align: right;\n",
       "    }\n",
       "</style>\n",
       "<table border=\"1\" class=\"dataframe\">\n",
       "  <thead>\n",
       "    <tr style=\"text-align: right;\">\n",
       "      <th></th>\n",
       "      <th>Country</th>\n",
       "      <th>Alcoholic Beverages</th>\n",
       "      <th>Animal fats</th>\n",
       "      <th>Animal Products</th>\n",
       "      <th>Aquatic Products, Other</th>\n",
       "      <th>Cereals - Excluding Beer</th>\n",
       "      <th>Eggs</th>\n",
       "      <th>Fish, Seafood</th>\n",
       "      <th>Fruits - Excluding Wine</th>\n",
       "      <th>Meat</th>\n",
       "      <th>...</th>\n",
       "      <th>Vegetables</th>\n",
       "      <th>Vegetal Products</th>\n",
       "      <th>Obesity</th>\n",
       "      <th>Undernourished</th>\n",
       "      <th>Confirmed</th>\n",
       "      <th>Deaths</th>\n",
       "      <th>Recovered</th>\n",
       "      <th>Active</th>\n",
       "      <th>Population</th>\n",
       "      <th>Unit (all except Population)</th>\n",
       "    </tr>\n",
       "  </thead>\n",
       "  <tbody>\n",
       "    <tr>\n",
       "      <th>0</th>\n",
       "      <td>Afghanistan</td>\n",
       "      <td>0.0014</td>\n",
       "      <td>0.1973</td>\n",
       "      <td>9.4341</td>\n",
       "      <td>0.0000</td>\n",
       "      <td>24.8097</td>\n",
       "      <td>0.2099</td>\n",
       "      <td>0.0350</td>\n",
       "      <td>5.3495</td>\n",
       "      <td>1.2020</td>\n",
       "      <td>...</td>\n",
       "      <td>6.7642</td>\n",
       "      <td>40.5645</td>\n",
       "      <td>4.5</td>\n",
       "      <td>29.8</td>\n",
       "      <td>0.120684</td>\n",
       "      <td>0.004680</td>\n",
       "      <td>0.095114</td>\n",
       "      <td>0.019903</td>\n",
       "      <td>38928000.0</td>\n",
       "      <td>%</td>\n",
       "    </tr>\n",
       "    <tr>\n",
       "      <th>1</th>\n",
       "      <td>Albania</td>\n",
       "      <td>1.6719</td>\n",
       "      <td>0.1357</td>\n",
       "      <td>18.7684</td>\n",
       "      <td>0.0000</td>\n",
       "      <td>5.7817</td>\n",
       "      <td>0.5815</td>\n",
       "      <td>0.2126</td>\n",
       "      <td>6.7861</td>\n",
       "      <td>1.8845</td>\n",
       "      <td>...</td>\n",
       "      <td>11.7753</td>\n",
       "      <td>31.2304</td>\n",
       "      <td>22.3</td>\n",
       "      <td>6.2</td>\n",
       "      <td>1.399542</td>\n",
       "      <td>0.029563</td>\n",
       "      <td>0.701621</td>\n",
       "      <td>0.668358</td>\n",
       "      <td>2838000.0</td>\n",
       "      <td>%</td>\n",
       "    </tr>\n",
       "    <tr>\n",
       "      <th>2</th>\n",
       "      <td>Algeria</td>\n",
       "      <td>0.2711</td>\n",
       "      <td>0.0282</td>\n",
       "      <td>9.6334</td>\n",
       "      <td>0.0000</td>\n",
       "      <td>13.6816</td>\n",
       "      <td>0.5277</td>\n",
       "      <td>0.2416</td>\n",
       "      <td>6.3801</td>\n",
       "      <td>1.1305</td>\n",
       "      <td>...</td>\n",
       "      <td>11.6484</td>\n",
       "      <td>40.3651</td>\n",
       "      <td>26.6</td>\n",
       "      <td>3.9</td>\n",
       "      <td>0.191816</td>\n",
       "      <td>0.005555</td>\n",
       "      <td>0.123971</td>\n",
       "      <td>0.062290</td>\n",
       "      <td>44357000.0</td>\n",
       "      <td>%</td>\n",
       "    </tr>\n",
       "    <tr>\n",
       "      <th>3</th>\n",
       "      <td>Angola</td>\n",
       "      <td>5.8087</td>\n",
       "      <td>0.0560</td>\n",
       "      <td>4.9278</td>\n",
       "      <td>0.0000</td>\n",
       "      <td>9.1085</td>\n",
       "      <td>0.0587</td>\n",
       "      <td>1.7707</td>\n",
       "      <td>6.0005</td>\n",
       "      <td>2.0571</td>\n",
       "      <td>...</td>\n",
       "      <td>2.3041</td>\n",
       "      <td>45.0722</td>\n",
       "      <td>6.8</td>\n",
       "      <td>25</td>\n",
       "      <td>0.047103</td>\n",
       "      <td>0.001079</td>\n",
       "      <td>0.025026</td>\n",
       "      <td>0.020998</td>\n",
       "      <td>32522000.0</td>\n",
       "      <td>%</td>\n",
       "    </tr>\n",
       "    <tr>\n",
       "      <th>4</th>\n",
       "      <td>Antigua and Barbuda</td>\n",
       "      <td>3.5764</td>\n",
       "      <td>0.0087</td>\n",
       "      <td>16.6613</td>\n",
       "      <td>0.0000</td>\n",
       "      <td>5.9960</td>\n",
       "      <td>0.2274</td>\n",
       "      <td>4.1489</td>\n",
       "      <td>10.7451</td>\n",
       "      <td>5.6888</td>\n",
       "      <td>...</td>\n",
       "      <td>5.4495</td>\n",
       "      <td>33.3233</td>\n",
       "      <td>19.1</td>\n",
       "      <td>NaN</td>\n",
       "      <td>0.146939</td>\n",
       "      <td>0.004082</td>\n",
       "      <td>0.135714</td>\n",
       "      <td>0.007143</td>\n",
       "      <td>98000.0</td>\n",
       "      <td>%</td>\n",
       "    </tr>\n",
       "    <tr>\n",
       "      <th>5</th>\n",
       "      <td>Argentina</td>\n",
       "      <td>4.2672</td>\n",
       "      <td>0.2234</td>\n",
       "      <td>19.3454</td>\n",
       "      <td>0.0000</td>\n",
       "      <td>8.4102</td>\n",
       "      <td>0.9979</td>\n",
       "      <td>0.4693</td>\n",
       "      <td>6.0435</td>\n",
       "      <td>7.0421</td>\n",
       "      <td>...</td>\n",
       "      <td>4.3503</td>\n",
       "      <td>30.6559</td>\n",
       "      <td>28.5</td>\n",
       "      <td>4.6</td>\n",
       "      <td>3.173641</td>\n",
       "      <td>0.086290</td>\n",
       "      <td>2.795156</td>\n",
       "      <td>0.292194</td>\n",
       "      <td>45377000.0</td>\n",
       "      <td>%</td>\n",
       "    </tr>\n",
       "    <tr>\n",
       "      <th>6</th>\n",
       "      <td>Armenia</td>\n",
       "      <td>0.4014</td>\n",
       "      <td>0.1833</td>\n",
       "      <td>13.5640</td>\n",
       "      <td>0.0000</td>\n",
       "      <td>7.2982</td>\n",
       "      <td>0.5783</td>\n",
       "      <td>0.2896</td>\n",
       "      <td>6.0989</td>\n",
       "      <td>2.2675</td>\n",
       "      <td>...</td>\n",
       "      <td>16.7019</td>\n",
       "      <td>36.4358</td>\n",
       "      <td>20.9</td>\n",
       "      <td>4.3</td>\n",
       "      <td>4.642456</td>\n",
       "      <td>0.075372</td>\n",
       "      <td>3.781969</td>\n",
       "      <td>0.785115</td>\n",
       "      <td>2956000.0</td>\n",
       "      <td>%</td>\n",
       "    </tr>\n",
       "    <tr>\n",
       "      <th>7</th>\n",
       "      <td>Australia</td>\n",
       "      <td>5.5436</td>\n",
       "      <td>0.3143</td>\n",
       "      <td>21.4175</td>\n",
       "      <td>0.0033</td>\n",
       "      <td>5.4979</td>\n",
       "      <td>0.4428</td>\n",
       "      <td>1.4264</td>\n",
       "      <td>4.1883</td>\n",
       "      <td>6.7049</td>\n",
       "      <td>...</td>\n",
       "      <td>5.1406</td>\n",
       "      <td>28.5806</td>\n",
       "      <td>30.4</td>\n",
       "      <td>&lt;2.5</td>\n",
       "      <td>0.108484</td>\n",
       "      <td>0.003526</td>\n",
       "      <td>0.099456</td>\n",
       "      <td>0.005502</td>\n",
       "      <td>25754000.0</td>\n",
       "      <td>%</td>\n",
       "    </tr>\n",
       "    <tr>\n",
       "      <th>8</th>\n",
       "      <td>Austria</td>\n",
       "      <td>7.0215</td>\n",
       "      <td>0.8555</td>\n",
       "      <td>19.5654</td>\n",
       "      <td>0.0011</td>\n",
       "      <td>6.2116</td>\n",
       "      <td>0.7884</td>\n",
       "      <td>0.7562</td>\n",
       "      <td>4.6069</td>\n",
       "      <td>4.6810</td>\n",
       "      <td>...</td>\n",
       "      <td>5.1098</td>\n",
       "      <td>30.4338</td>\n",
       "      <td>21.9</td>\n",
       "      <td>&lt;2.5</td>\n",
       "      <td>3.247263</td>\n",
       "      <td>0.038658</td>\n",
       "      <td>2.621236</td>\n",
       "      <td>0.587368</td>\n",
       "      <td>8914000.0</td>\n",
       "      <td>%</td>\n",
       "    </tr>\n",
       "    <tr>\n",
       "      <th>9</th>\n",
       "      <td>Azerbaijan</td>\n",
       "      <td>3.5969</td>\n",
       "      <td>0.2544</td>\n",
       "      <td>11.6416</td>\n",
       "      <td>0.0000</td>\n",
       "      <td>13.0898</td>\n",
       "      <td>0.5593</td>\n",
       "      <td>0.2020</td>\n",
       "      <td>4.7988</td>\n",
       "      <td>2.1513</td>\n",
       "      <td>...</td>\n",
       "      <td>10.0755</td>\n",
       "      <td>38.3584</td>\n",
       "      <td>19.9</td>\n",
       "      <td>&lt;2.5</td>\n",
       "      <td>1.281599</td>\n",
       "      <td>0.014543</td>\n",
       "      <td>0.783162</td>\n",
       "      <td>0.483894</td>\n",
       "      <td>10108000.0</td>\n",
       "      <td>%</td>\n",
       "    </tr>\n",
       "  </tbody>\n",
       "</table>\n",
       "<p>10 rows × 32 columns</p>\n",
       "</div>"
      ],
      "text/plain": [
       "               Country  Alcoholic Beverages  Animal fats  Animal Products  \\\n",
       "0          Afghanistan               0.0014       0.1973           9.4341   \n",
       "1              Albania               1.6719       0.1357          18.7684   \n",
       "2              Algeria               0.2711       0.0282           9.6334   \n",
       "3               Angola               5.8087       0.0560           4.9278   \n",
       "4  Antigua and Barbuda               3.5764       0.0087          16.6613   \n",
       "5            Argentina               4.2672       0.2234          19.3454   \n",
       "6              Armenia               0.4014       0.1833          13.5640   \n",
       "7            Australia               5.5436       0.3143          21.4175   \n",
       "8              Austria               7.0215       0.8555          19.5654   \n",
       "9           Azerbaijan               3.5969       0.2544          11.6416   \n",
       "\n",
       "   Aquatic Products, Other  Cereals - Excluding Beer    Eggs  Fish, Seafood  \\\n",
       "0                   0.0000                   24.8097  0.2099         0.0350   \n",
       "1                   0.0000                    5.7817  0.5815         0.2126   \n",
       "2                   0.0000                   13.6816  0.5277         0.2416   \n",
       "3                   0.0000                    9.1085  0.0587         1.7707   \n",
       "4                   0.0000                    5.9960  0.2274         4.1489   \n",
       "5                   0.0000                    8.4102  0.9979         0.4693   \n",
       "6                   0.0000                    7.2982  0.5783         0.2896   \n",
       "7                   0.0033                    5.4979  0.4428         1.4264   \n",
       "8                   0.0011                    6.2116  0.7884         0.7562   \n",
       "9                   0.0000                   13.0898  0.5593         0.2020   \n",
       "\n",
       "   Fruits - Excluding Wine    Meat  ...  Vegetables  Vegetal Products  \\\n",
       "0                   5.3495  1.2020  ...      6.7642           40.5645   \n",
       "1                   6.7861  1.8845  ...     11.7753           31.2304   \n",
       "2                   6.3801  1.1305  ...     11.6484           40.3651   \n",
       "3                   6.0005  2.0571  ...      2.3041           45.0722   \n",
       "4                  10.7451  5.6888  ...      5.4495           33.3233   \n",
       "5                   6.0435  7.0421  ...      4.3503           30.6559   \n",
       "6                   6.0989  2.2675  ...     16.7019           36.4358   \n",
       "7                   4.1883  6.7049  ...      5.1406           28.5806   \n",
       "8                   4.6069  4.6810  ...      5.1098           30.4338   \n",
       "9                   4.7988  2.1513  ...     10.0755           38.3584   \n",
       "\n",
       "   Obesity  Undernourished  Confirmed    Deaths  Recovered    Active  \\\n",
       "0      4.5            29.8   0.120684  0.004680   0.095114  0.019903   \n",
       "1     22.3             6.2   1.399542  0.029563   0.701621  0.668358   \n",
       "2     26.6             3.9   0.191816  0.005555   0.123971  0.062290   \n",
       "3      6.8              25   0.047103  0.001079   0.025026  0.020998   \n",
       "4     19.1             NaN   0.146939  0.004082   0.135714  0.007143   \n",
       "5     28.5             4.6   3.173641  0.086290   2.795156  0.292194   \n",
       "6     20.9             4.3   4.642456  0.075372   3.781969  0.785115   \n",
       "7     30.4            <2.5   0.108484  0.003526   0.099456  0.005502   \n",
       "8     21.9            <2.5   3.247263  0.038658   2.621236  0.587368   \n",
       "9     19.9            <2.5   1.281599  0.014543   0.783162  0.483894   \n",
       "\n",
       "   Population  Unit (all except Population)  \n",
       "0  38928000.0                             %  \n",
       "1   2838000.0                             %  \n",
       "2  44357000.0                             %  \n",
       "3  32522000.0                             %  \n",
       "4     98000.0                             %  \n",
       "5  45377000.0                             %  \n",
       "6   2956000.0                             %  \n",
       "7  25754000.0                             %  \n",
       "8   8914000.0                             %  \n",
       "9  10108000.0                             %  \n",
       "\n",
       "[10 rows x 32 columns]"
      ]
     },
     "execution_count": 2,
     "metadata": {},
     "output_type": "execute_result"
    }
   ],
   "source": [
    "# Import data:\n",
    "origin_df = pd.read_csv(\"Food_Supply_Quantity_kg_Data.csv - Sheet1.csv\")\n",
    "# showing the first 10 rows\n",
    "origin_df.head(10)"
   ]
  },
  {
   "cell_type": "markdown",
   "metadata": {},
   "source": [
    "The following is the description of each food category:"
   ]
  },
  {
   "cell_type": "code",
   "execution_count": 11,
   "metadata": {},
   "outputs": [
    {
     "data": {
      "text/html": [
       "<div>\n",
       "<style scoped>\n",
       "    .dataframe tbody tr th:only-of-type {\n",
       "        vertical-align: middle;\n",
       "    }\n",
       "\n",
       "    .dataframe tbody tr th {\n",
       "        vertical-align: top;\n",
       "    }\n",
       "\n",
       "    .dataframe thead th {\n",
       "        text-align: right;\n",
       "    }\n",
       "</style>\n",
       "<table border=\"1\" class=\"dataframe\">\n",
       "  <thead>\n",
       "    <tr style=\"text-align: right;\">\n",
       "      <th></th>\n",
       "      <th>Categories</th>\n",
       "      <th>Items</th>\n",
       "    </tr>\n",
       "  </thead>\n",
       "  <tbody>\n",
       "    <tr>\n",
       "      <th>0</th>\n",
       "      <td>Alcoholic Beverages</td>\n",
       "      <td>Alcohol, Non-Food; Beer; Beverages, Alcoholic; Beverages, Fermented; Wine</td>\n",
       "    </tr>\n",
       "    <tr>\n",
       "      <th>1</th>\n",
       "      <td>Animal fats</td>\n",
       "      <td>Butter, Ghee; Cream; Fats, Animals, Raw; Fish, Body Oil; Fish, Liver Oil</td>\n",
       "    </tr>\n",
       "    <tr>\n",
       "      <th>2</th>\n",
       "      <td>Animal Products</td>\n",
       "      <td>Aquatic Animals, Others; Aquatic Plants; Bovine Meat; Butter, Ghee; Cephalopods; Cream; Crustaceans; Demersal Fish; Eggs; Fats, Animals, Raw; Fish, Body Oil; Fish, Liver Oil; Freshwater Fish; Marine Fish, Other; Meat, Aquatic Mammals; Meat, Other; Milk - Excluding Butter; Molluscs, Other; Mutton &amp; Goat Meat; Offals, Edible; Pelagic Fish; Pigmeat; Poultry Meat</td>\n",
       "    </tr>\n",
       "    <tr>\n",
       "      <th>3</th>\n",
       "      <td>Aquatic Products, Other</td>\n",
       "      <td>Aquatic Animals, Others; Aquatic Plants; Meat, Aquatic Mammals</td>\n",
       "    </tr>\n",
       "    <tr>\n",
       "      <th>4</th>\n",
       "      <td>Cereals - Excluding Beer</td>\n",
       "      <td>Barley and products; Cereals, Other; Maize and products; Millet and products; Oats; Rice (Milled Equivalent); Rye and products; Sorghum and products; Wheat and products</td>\n",
       "    </tr>\n",
       "    <tr>\n",
       "      <th>5</th>\n",
       "      <td>Eggs</td>\n",
       "      <td>Eggs</td>\n",
       "    </tr>\n",
       "    <tr>\n",
       "      <th>6</th>\n",
       "      <td>Fish, Seafood</td>\n",
       "      <td>Cephalopods; Crustaceans; Demersal Fish; Freshwater Fish; Marine Fish, Other; Molluscs, Other; Pelagic Fish</td>\n",
       "    </tr>\n",
       "    <tr>\n",
       "      <th>7</th>\n",
       "      <td>Fruits - Excluding Wine</td>\n",
       "      <td>Apples and products; Bananas; Citrus, Other; Dates; Fruits, Other; Grapefruit and products; Grapes and products (excl wine); Lemons, Limes and products; Oranges, Mandarines; Pineapples and products; Plantains</td>\n",
       "    </tr>\n",
       "    <tr>\n",
       "      <th>8</th>\n",
       "      <td>Meat</td>\n",
       "      <td>Bovine Meat; Meat, Other; Mutton &amp; Goat Meat; Pigmeat; Poultry Meat</td>\n",
       "    </tr>\n",
       "    <tr>\n",
       "      <th>9</th>\n",
       "      <td>Milk - Excluding Butter</td>\n",
       "      <td>Milk - Excluding Butter</td>\n",
       "    </tr>\n",
       "    <tr>\n",
       "      <th>10</th>\n",
       "      <td>Miscellaneous</td>\n",
       "      <td>Infant food; Miscellaneous</td>\n",
       "    </tr>\n",
       "    <tr>\n",
       "      <th>11</th>\n",
       "      <td>Offals</td>\n",
       "      <td>Offals, Edible</td>\n",
       "    </tr>\n",
       "    <tr>\n",
       "      <th>12</th>\n",
       "      <td>Oilcrops</td>\n",
       "      <td>Coconuts - Incl Copra; Cottonseed; Groundnuts (Shelled Eq); Oilcrops, Other; Olives (including preserved); Palm kernels; Rape and Mustardseed; Sesame seed; Soyabeans; Sunflower seed</td>\n",
       "    </tr>\n",
       "    <tr>\n",
       "      <th>13</th>\n",
       "      <td>Pulses</td>\n",
       "      <td>Beans; Peas; Pulses, Other and products</td>\n",
       "    </tr>\n",
       "    <tr>\n",
       "      <th>14</th>\n",
       "      <td>Spices</td>\n",
       "      <td>Cloves; Pepper; Pimento; Spices, Other</td>\n",
       "    </tr>\n",
       "    <tr>\n",
       "      <th>15</th>\n",
       "      <td>Starchy Roots</td>\n",
       "      <td>Cassava and products; Potatoes and products; Roots, Other; Sweet potatoes; Yams</td>\n",
       "    </tr>\n",
       "    <tr>\n",
       "      <th>16</th>\n",
       "      <td>Stimulants</td>\n",
       "      <td>Cocoa Beans and products; Coffee and products; Tea (including mate)</td>\n",
       "    </tr>\n",
       "    <tr>\n",
       "      <th>17</th>\n",
       "      <td>Sugar &amp; Sweeteners</td>\n",
       "      <td>Honey; Sugar (Raw Equivalent); Sugar non-centrifugal; Sweeteners, Other</td>\n",
       "    </tr>\n",
       "    <tr>\n",
       "      <th>18</th>\n",
       "      <td>Sugar Crops</td>\n",
       "      <td>Sugar beet; Sugar cane</td>\n",
       "    </tr>\n",
       "    <tr>\n",
       "      <th>19</th>\n",
       "      <td>Treenuts</td>\n",
       "      <td>Nuts and products</td>\n",
       "    </tr>\n",
       "    <tr>\n",
       "      <th>20</th>\n",
       "      <td>Vegetable Oils</td>\n",
       "      <td>Coconut Oil; Cottonseed Oil; Groundnut Oil; Maize Germ Oil; Oilcrops Oil, Other; Olive Oil; Palm Oil; Palmkernel Oil; Rape and Mustard Oil; Ricebran Oil; Sesameseed Oil; Soyabean Oil; Sunflowerseed Oil</td>\n",
       "    </tr>\n",
       "    <tr>\n",
       "      <th>21</th>\n",
       "      <td>Vegetables</td>\n",
       "      <td>Onions; Tomatoes and products; Vegetables, Other</td>\n",
       "    </tr>\n",
       "    <tr>\n",
       "      <th>22</th>\n",
       "      <td>Vegetal Products</td>\n",
       "      <td>Alcohol, Non-Food; Apples and products; Bananas; Barley and products; Beans; Beer; Beverages, Alcoholic; Beverages, Fermented; Cassava and products; Cereals, Other; Citrus, Other; Cloves; Cocoa Beans and products; Coconut Oil; Coconuts - Incl Copra; Coffee and products; Cottonseed; Cottonseed Oil; Dates; Fruits, Other; Grapefruit and products; Grapes and products (excl wine); Groundnut Oil; Gr...</td>\n",
       "    </tr>\n",
       "  </tbody>\n",
       "</table>\n",
       "</div>"
      ],
      "text/plain": [
       "                  Categories  \\\n",
       "0        Alcoholic Beverages   \n",
       "1                Animal fats   \n",
       "2            Animal Products   \n",
       "3    Aquatic Products, Other   \n",
       "4   Cereals - Excluding Beer   \n",
       "5                       Eggs   \n",
       "6              Fish, Seafood   \n",
       "7    Fruits - Excluding Wine   \n",
       "8                       Meat   \n",
       "9    Milk - Excluding Butter   \n",
       "10             Miscellaneous   \n",
       "11                    Offals   \n",
       "12                  Oilcrops   \n",
       "13                    Pulses   \n",
       "14                    Spices   \n",
       "15             Starchy Roots   \n",
       "16                Stimulants   \n",
       "17        Sugar & Sweeteners   \n",
       "18               Sugar Crops   \n",
       "19                  Treenuts   \n",
       "20            Vegetable Oils   \n",
       "21                Vegetables   \n",
       "22          Vegetal Products   \n",
       "\n",
       "                                                                                                                                                                                                                                                                                                                                                                                                              Items  \n",
       "0                                                                                                                                                                                                                                                                                                                                         Alcohol, Non-Food; Beer; Beverages, Alcoholic; Beverages, Fermented; Wine  \n",
       "1                                                                                                                                                                                                                                                                                                                                          Butter, Ghee; Cream; Fats, Animals, Raw; Fish, Body Oil; Fish, Liver Oil  \n",
       "2                                         Aquatic Animals, Others; Aquatic Plants; Bovine Meat; Butter, Ghee; Cephalopods; Cream; Crustaceans; Demersal Fish; Eggs; Fats, Animals, Raw; Fish, Body Oil; Fish, Liver Oil; Freshwater Fish; Marine Fish, Other; Meat, Aquatic Mammals; Meat, Other; Milk - Excluding Butter; Molluscs, Other; Mutton & Goat Meat; Offals, Edible; Pelagic Fish; Pigmeat; Poultry Meat  \n",
       "3                                                                                                                                                                                                                                                                                                                                                    Aquatic Animals, Others; Aquatic Plants; Meat, Aquatic Mammals  \n",
       "4                                                                                                                                                                                                                                          Barley and products; Cereals, Other; Maize and products; Millet and products; Oats; Rice (Milled Equivalent); Rye and products; Sorghum and products; Wheat and products  \n",
       "5                                                                                                                                                                                                                                                                                                                                                                                                              Eggs  \n",
       "6                                                                                                                                                                                                                                                                                                       Cephalopods; Crustaceans; Demersal Fish; Freshwater Fish; Marine Fish, Other; Molluscs, Other; Pelagic Fish  \n",
       "7                                                                                                                                                                                                  Apples and products; Bananas; Citrus, Other; Dates; Fruits, Other; Grapefruit and products; Grapes and products (excl wine); Lemons, Limes and products; Oranges, Mandarines; Pineapples and products; Plantains  \n",
       "8                                                                                                                                                                                                                                                                                                                                               Bovine Meat; Meat, Other; Mutton & Goat Meat; Pigmeat; Poultry Meat  \n",
       "9                                                                                                                                                                                                                                                                                                                                                                                           Milk - Excluding Butter  \n",
       "10                                                                                                                                                                                                                                                                                                                                                                                       Infant food; Miscellaneous  \n",
       "11                                                                                                                                                                                                                                                                                                                                                                                                   Offals, Edible  \n",
       "12                                                                                                                                                                                                                            Coconuts - Incl Copra; Cottonseed; Groundnuts (Shelled Eq); Oilcrops, Other; Olives (including preserved); Palm kernels; Rape and Mustardseed; Sesame seed; Soyabeans; Sunflower seed  \n",
       "13                                                                                                                                                                                                                                                                                                                                                                          Beans; Peas; Pulses, Other and products  \n",
       "14                                                                                                                                                                                                                                                                                                                                                                           Cloves; Pepper; Pimento; Spices, Other  \n",
       "15                                                                                                                                                                                                                                                                                                                                  Cassava and products; Potatoes and products; Roots, Other; Sweet potatoes; Yams  \n",
       "16                                                                                                                                                                                                                                                                                                                                              Cocoa Beans and products; Coffee and products; Tea (including mate)  \n",
       "17                                                                                                                                                                                                                                                                                                                                          Honey; Sugar (Raw Equivalent); Sugar non-centrifugal; Sweeteners, Other  \n",
       "18                                                                                                                                                                                                                                                                                                                                                                                           Sugar beet; Sugar cane  \n",
       "19                                                                                                                                                                                                                                                                                                                                                                                                Nuts and products  \n",
       "20                                                                                                                                                                                                        Coconut Oil; Cottonseed Oil; Groundnut Oil; Maize Germ Oil; Oilcrops Oil, Other; Olive Oil; Palm Oil; Palmkernel Oil; Rape and Mustard Oil; Ricebran Oil; Sesameseed Oil; Soyabean Oil; Sunflowerseed Oil  \n",
       "21                                                                                                                                                                                                                                                                                                                                                                 Onions; Tomatoes and products; Vegetables, Other  \n",
       "22  Alcohol, Non-Food; Apples and products; Bananas; Barley and products; Beans; Beer; Beverages, Alcoholic; Beverages, Fermented; Cassava and products; Cereals, Other; Citrus, Other; Cloves; Cocoa Beans and products; Coconut Oil; Coconuts - Incl Copra; Coffee and products; Cottonseed; Cottonseed Oil; Dates; Fruits, Other; Grapefruit and products; Grapes and products (excl wine); Groundnut Oil; Gr...  "
      ]
     },
     "execution_count": 11,
     "metadata": {},
     "output_type": "execute_result"
    }
   ],
   "source": [
    "description = pd.read_csv(\"Supply_Food_Data_Descriptions.csv - Sheet1.csv\")\n",
    "pd.options.display.max_colwidth = 400\n",
    "description"
   ]
  },
  {
   "cell_type": "markdown",
   "metadata": {},
   "source": [
    "## Data Processing\n",
    "-----------\n",
    "As you can see, the above data seems to be a bit messy, given there are so many categories and the categorization of each type of food seems to be too precise and some of them are redundent. In this step, we will combine and drop some food categories to make the data more brief and understandable."
   ]
  },
  {
   "cell_type": "markdown",
   "metadata": {},
   "source": [
    "According to [USDA's Choose MyPlate program](https://www.choosemyplate.gov/eathealthy/WhatIsMyPlate) ,a daily diet can be categorized into fruits, vegetabels, grains, diary, protein foods, and oils. However, given that countries have different food cultures around the world, we will also add stimulants (such as coffee, and tea), spcies, and alcoholic beverages to our food categories. Our food category will be a combination of the provided food categories:\n",
    "\n",
    "* Fruits: Fruits-excluding wine\n",
    "* Vegatables: Pulses, staychy roots, sugar & sweeteners, sugar crops, vehetables, vegetal products\n",
    "* Grains: Cereals-exclusing beers\n",
    "* Protein Foods: Animal products, aquatic products, other, eggs, seafood, fish, meat, offals.\n",
    "* Diary: Milk-excluding butter.\n",
    "* Oils: Animal fat, oilcrops, treenuts, vegetable oils. \n",
    "* Stimulants: coffee, tea, etc.\n",
    "* Spices: Cloves; Pepper; Pimento; Spices, Other\n",
    "* Alcholoic Drink: Alcohol, Non-Food; Beer; Beverages, Alcoholic; Beverages, Fermented; Wine\n",
    "\n",
    "We will drop \"Miscellaneous\" from the original data since the decription of this category is very vague. We will also drop \"Country\" since it is irrelevant with our study\n",
    "\n",
    "Please note: all the data we will be using are in %\n",
    "\n",
    "<!-- * Fruits: Berries, 100% fruit juice, melons, other fruits(such as apples, bananas, grapes, figs, etc.)\n",
    "* Vegatables: Dark green vegetables(broccoli, etc.), red and orange vegetables(carrots, tomatos, sweet potatos, etc.), starchy vegetables(corn, white potatos, yams, etc.), beans and peas(black beans, chickpeas, etc.), other vegetables(beets, asparagus, onions, etc.) \n",
    "* Grains: whole grains(cereals, oatmeal, brown rice, etc.), refined grains(white bread, pasta, white rice, etc.)\n",
    "* Protein Foods: Meats(beef, pork, etc.), poultry(chicken etc.), soy products, eggs, nuts and seeds, seafood\n",
    "* Diary: milk(including soy milk), cheese, yogurt\n",
    "* Oils: vegetable oil, animal fat, nuts,etc. \n",
    "* Stimulants: Coffee, tea, etc.\n",
    "* Spices: red pepper, curry spices, etc.\n",
    "* Alcholoic Drink: beer, wine, etc.  -->"
   ]
  },
  {
   "cell_type": "code",
   "execution_count": 7,
   "metadata": {
    "scrolled": false
   },
   "outputs": [
    {
     "data": {
      "text/html": [
       "<div>\n",
       "<style scoped>\n",
       "    .dataframe tbody tr th:only-of-type {\n",
       "        vertical-align: middle;\n",
       "    }\n",
       "\n",
       "    .dataframe tbody tr th {\n",
       "        vertical-align: top;\n",
       "    }\n",
       "\n",
       "    .dataframe thead th {\n",
       "        text-align: right;\n",
       "    }\n",
       "</style>\n",
       "<table border=\"1\" class=\"dataframe\">\n",
       "  <thead>\n",
       "    <tr style=\"text-align: right;\">\n",
       "      <th></th>\n",
       "      <th>Fruits</th>\n",
       "      <th>Vegetables</th>\n",
       "      <th>Grains</th>\n",
       "      <th>Protein</th>\n",
       "      <th>Diary</th>\n",
       "      <th>Oils</th>\n",
       "      <th>Stimulants</th>\n",
       "      <th>Spices</th>\n",
       "      <th>Alcohol</th>\n",
       "      <th>COVID-19 Rate</th>\n",
       "    </tr>\n",
       "  </thead>\n",
       "  <tbody>\n",
       "    <tr>\n",
       "      <th>0</th>\n",
       "      <td>5.3495</td>\n",
       "      <td>49.8531</td>\n",
       "      <td>24.8097</td>\n",
       "      <td>20.5208</td>\n",
       "      <td>7.5828</td>\n",
       "      <td>0.8788</td>\n",
       "      <td>0.3078</td>\n",
       "      <td>0.0574</td>\n",
       "      <td>0.0014</td>\n",
       "      <td>0.120684</td>\n",
       "    </tr>\n",
       "    <tr>\n",
       "      <th>1</th>\n",
       "      <td>6.7861</td>\n",
       "      <td>46.5900</td>\n",
       "      <td>5.7817</td>\n",
       "      <td>40.4478</td>\n",
       "      <td>15.7213</td>\n",
       "      <td>1.5510</td>\n",
       "      <td>0.1055</td>\n",
       "      <td>0.0008</td>\n",
       "      <td>1.6719</td>\n",
       "      <td>1.399542</td>\n",
       "    </tr>\n",
       "    <tr>\n",
       "      <th>2</th>\n",
       "      <td>6.3801</td>\n",
       "      <td>58.4600</td>\n",
       "      <td>13.6816</td>\n",
       "      <td>21.2536</td>\n",
       "      <td>7.6189</td>\n",
       "      <td>1.5237</td>\n",
       "      <td>0.2216</td>\n",
       "      <td>0.0557</td>\n",
       "      <td>0.2711</td>\n",
       "      <td>0.191816</td>\n",
       "    </tr>\n",
       "    <tr>\n",
       "      <th>3</th>\n",
       "      <td>6.0005</td>\n",
       "      <td>67.9867</td>\n",
       "      <td>9.1085</td>\n",
       "      <td>13.8971</td>\n",
       "      <td>0.8311</td>\n",
       "      <td>1.1270</td>\n",
       "      <td>0.0508</td>\n",
       "      <td>0.0009</td>\n",
       "      <td>5.8087</td>\n",
       "      <td>0.047103</td>\n",
       "    </tr>\n",
       "    <tr>\n",
       "      <th>4</th>\n",
       "      <td>10.7451</td>\n",
       "      <td>44.2839</td>\n",
       "      <td>5.9960</td>\n",
       "      <td>43.6096</td>\n",
       "      <td>6.3663</td>\n",
       "      <td>1.0614</td>\n",
       "      <td>0.1564</td>\n",
       "      <td>0.1524</td>\n",
       "      <td>3.5764</td>\n",
       "      <td>0.146939</td>\n",
       "    </tr>\n",
       "    <tr>\n",
       "      <th>...</th>\n",
       "      <td>...</td>\n",
       "      <td>...</td>\n",
       "      <td>...</td>\n",
       "      <td>...</td>\n",
       "      <td>...</td>\n",
       "      <td>...</td>\n",
       "      <td>...</td>\n",
       "      <td>...</td>\n",
       "      <td>...</td>\n",
       "      <td>...</td>\n",
       "    </tr>\n",
       "    <tr>\n",
       "      <th>165</th>\n",
       "      <td>7.6460</td>\n",
       "      <td>45.6981</td>\n",
       "      <td>12.9253</td>\n",
       "      <td>34.8381</td>\n",
       "      <td>9.3920</td>\n",
       "      <td>1.4427</td>\n",
       "      <td>0.1479</td>\n",
       "      <td>0.0009</td>\n",
       "      <td>2.5952</td>\n",
       "      <td>0.359808</td>\n",
       "    </tr>\n",
       "    <tr>\n",
       "      <th>166</th>\n",
       "      <td>5.9029</td>\n",
       "      <td>56.7364</td>\n",
       "      <td>16.8740</td>\n",
       "      <td>24.9530</td>\n",
       "      <td>0.6069</td>\n",
       "      <td>1.5321</td>\n",
       "      <td>0.2880</td>\n",
       "      <td>0.2074</td>\n",
       "      <td>1.4591</td>\n",
       "      <td>0.001412</td>\n",
       "    </tr>\n",
       "    <tr>\n",
       "      <th>167</th>\n",
       "      <td>5.1344</td>\n",
       "      <td>54.4168</td>\n",
       "      <td>27.2077</td>\n",
       "      <td>15.4265</td>\n",
       "      <td>1.8911</td>\n",
       "      <td>1.2167</td>\n",
       "      <td>0.2199</td>\n",
       "      <td>0.0347</td>\n",
       "      <td>0.0364</td>\n",
       "      <td>0.007433</td>\n",
       "    </tr>\n",
       "    <tr>\n",
       "      <th>168</th>\n",
       "      <td>1.0183</td>\n",
       "      <td>57.1475</td>\n",
       "      <td>21.1938</td>\n",
       "      <td>16.2192</td>\n",
       "      <td>1.7570</td>\n",
       "      <td>2.6236</td>\n",
       "      <td>0.0618</td>\n",
       "      <td>0.0478</td>\n",
       "      <td>5.7360</td>\n",
       "      <td>0.096279</td>\n",
       "    </tr>\n",
       "    <tr>\n",
       "      <th>169</th>\n",
       "      <td>2.2000</td>\n",
       "      <td>52.2355</td>\n",
       "      <td>22.6240</td>\n",
       "      <td>19.9402</td>\n",
       "      <td>4.4310</td>\n",
       "      <td>2.2874</td>\n",
       "      <td>0.1494</td>\n",
       "      <td>0.0252</td>\n",
       "      <td>4.0552</td>\n",
       "      <td>0.068149</td>\n",
       "    </tr>\n",
       "  </tbody>\n",
       "</table>\n",
       "<p>170 rows × 10 columns</p>\n",
       "</div>"
      ],
      "text/plain": [
       "      Fruits  Vegetables   Grains  Protein    Diary    Oils  Stimulants  \\\n",
       "0     5.3495     49.8531  24.8097  20.5208   7.5828  0.8788      0.3078   \n",
       "1     6.7861     46.5900   5.7817  40.4478  15.7213  1.5510      0.1055   \n",
       "2     6.3801     58.4600  13.6816  21.2536   7.6189  1.5237      0.2216   \n",
       "3     6.0005     67.9867   9.1085  13.8971   0.8311  1.1270      0.0508   \n",
       "4    10.7451     44.2839   5.9960  43.6096   6.3663  1.0614      0.1564   \n",
       "..       ...         ...      ...      ...      ...     ...         ...   \n",
       "165   7.6460     45.6981  12.9253  34.8381   9.3920  1.4427      0.1479   \n",
       "166   5.9029     56.7364  16.8740  24.9530   0.6069  1.5321      0.2880   \n",
       "167   5.1344     54.4168  27.2077  15.4265   1.8911  1.2167      0.2199   \n",
       "168   1.0183     57.1475  21.1938  16.2192   1.7570  2.6236      0.0618   \n",
       "169   2.2000     52.2355  22.6240  19.9402   4.4310  2.2874      0.1494   \n",
       "\n",
       "     Spices  Alcohol  COVID-19 Rate  \n",
       "0    0.0574   0.0014       0.120684  \n",
       "1    0.0008   1.6719       1.399542  \n",
       "2    0.0557   0.2711       0.191816  \n",
       "3    0.0009   5.8087       0.047103  \n",
       "4    0.1524   3.5764       0.146939  \n",
       "..      ...      ...            ...  \n",
       "165  0.0009   2.5952       0.359808  \n",
       "166  0.2074   1.4591       0.001412  \n",
       "167  0.0347   0.0364       0.007433  \n",
       "168  0.0478   5.7360       0.096279  \n",
       "169  0.0252   4.0552       0.068149  \n",
       "\n",
       "[170 rows x 10 columns]"
      ]
     },
     "execution_count": 7,
     "metadata": {},
     "output_type": "execute_result"
    }
   ],
   "source": [
    "# Create a new df with combinations of variables from the origin_df\n",
    "data = {'Fruits': origin_df['Fruits - Excluding Wine'], \n",
    "       'Vegetables': origin_df['Pulses'] + origin_df['Starchy Roots'] + origin_df['Sugar & Sweeteners'] + origin_df['Sugar Crops'] + origin_df['Vegetables'] + origin_df['Vegetal Products'], \n",
    "       'Grains': origin_df['Cereals - Excluding Beer'], \n",
    "       'Protein': origin_df['Animal Products'] + origin_df['Animal Products'] + origin_df['Eggs'] + origin_df['Fish, Seafood'] + origin_df['Meat'] + origin_df['Offals'], \n",
    "       'Diary': origin_df['Milk - Excluding Butter'], \n",
    "       'Oils': origin_df['Animal fats'] + origin_df['Oilcrops'] + origin_df['Treenuts'] + origin_df['Vegetable Oils'], \n",
    "       'Stimulants': origin_df['Stimulants'], \n",
    "       'Spices': origin_df['Spices'], \n",
    "       'Alcohol': origin_df['Alcoholic Beverages'], \n",
    "       'COVID-19 Rate': origin_df['Confirmed']}\n",
    "\n",
    "df = pd.DataFrame(data)\n",
    "df"
   ]
  },
  {
   "cell_type": "markdown",
   "metadata": {},
   "source": [
    "## Data Visulization\n",
    "-------------\n",
    "In this section, we will plot the data to observe potential trends in our data and see what is useful to analyze.\n",
    "Let's start by plotting COVID-19 rate over each food categoty. \n",
    "\n",
    "- We can start by constructing a figure by using `plt.figure()` in the matplotlib module, you can adjust the size of the figure by adding the parameter **figsize**. For instance, if I want to set the figure size to be 12 by 8, then I can apply the following `plt.figure(figsize=(12,8))`, please note that this step is totally optional if you are good with the default figure size. \n",
    "\n",
    "- Then it comes to our plotting procedure, we want to draw scatter plot in this case for analysis, to do that we can use the **scatter** function `plt.scatter()` from matplotlib module. \n",
    "\n",
    "- After plotting the figure, we want to add the x-label, y-label along with the title for the graph. It is important that you apply title, x-label and y-label to illustrate the subjects of your plot to the people who are seeing it.\n",
    "\n",
    "With being said above, we can start plotting for all 9 categories:\n"
   ]
  },
  {
   "cell_type": "markdown",
   "metadata": {},
   "source": [
    "### Fruits:"
   ]
  },
  {
   "cell_type": "code",
   "execution_count": 31,
   "metadata": {},
   "outputs": [
    {
     "data": {
      "text/plain": [
       "Text(0, 0.5, 'COVID-19 Rate')"
      ]
     },
     "execution_count": 31,
     "metadata": {},
     "output_type": "execute_result"
    },
    {
     "data": {
      "image/png": "[encoded data removed]",
      "text/plain": [
       "<Figure size 864x576 with 1 Axes>"
      ]
     },
     "metadata": {
      "needs_background": "light"
     },
     "output_type": "display_data"
    }
   ],
   "source": [
    "plt.figure(figsize=(12,8)) # make the figure slightly bigger for better visulization\n",
    "plt.scatter(df['Fruits'],df['COVID-19 Rate']) # drawing scatter plot\n",
    "plt.title(\"Fruit category scatter plot\") # adding title to the plot\n",
    "plt.xlabel('Fruits Proportion') # adding x-label to the plot\n",
    "plt.ylabel('COVID-19 Rate') # adding y-label to the plot"
   ]
  },
  {
   "cell_type": "markdown",
   "metadata": {},
   "source": [
    "### Vegetables:"
   ]
  },
  {
   "cell_type": "code",
   "execution_count": 33,
   "metadata": {},
   "outputs": [
    {
     "data": {
      "text/plain": [
       "Text(0, 0.5, 'COVID-19 Rate')"
      ]
     },
     "execution_count": 33,
     "metadata": {},
     "output_type": "execute_result"
    },
    {
     "data": {
      "image/png": "[encoded data removed]",
      "text/plain": [
       "<Figure size 864x576 with 1 Axes>"
      ]
     },
     "metadata": {
      "needs_background": "light"
     },
     "output_type": "display_data"
    }
   ],
   "source": [
    "plt.figure(figsize=(12,8)) # make the figure slightly bigger for better visulization\n",
    "plt.scatter(df['Vegetables'],df['COVID-19 Rate']) # scatter plot\n",
    "plt.title(\"Vegetables category scatter plot\")\n",
    "plt.xlabel('Vegetables Proportion')\n",
    "plt.ylabel('COVID-19 Rate')"
   ]
  },
  {
   "cell_type": "markdown",
   "metadata": {},
   "source": [
    "### Grains:"
   ]
  },
  {
   "cell_type": "code",
   "execution_count": 19,
   "metadata": {},
   "outputs": [
    {
     "data": {
      "text/plain": [
       "Text(0, 0.5, 'COVID-19 Rate')"
      ]
     },
     "execution_count": 19,
     "metadata": {},
     "output_type": "execute_result"
    },
    {
     "data": {
      "image/png": "[encoded data removed]",
      "text/plain": [
       "<Figure size 864x576 with 1 Axes>"
      ]
     },
     "metadata": {
      "needs_background": "light"
     },
     "output_type": "display_data"
    }
   ],
   "source": [
    "plt.figure(figsize=(12,8)) # make the figure slightly bigger for better visulization\n",
    "plt.scatter(df['Grains'],df['COVID-19 Rate']) # scatter plot\n",
    "plt.title(\"Grains category scatter plot\")\n",
    "plt.xlabel('Grains Proportion')\n",
    "plt.ylabel('COVID-19 Rate')"
   ]
  },
  {
   "cell_type": "markdown",
   "metadata": {},
   "source": [
    "### Protein:"
   ]
  },
  {
   "cell_type": "code",
   "execution_count": 28,
   "metadata": {},
   "outputs": [
    {
     "data": {
      "text/plain": [
       "Text(0, 0.5, 'COVID-19 Rate')"
      ]
     },
     "execution_count": 28,
     "metadata": {},
     "output_type": "execute_result"
    },
    {
     "data": {
      "image/png": "[encoded data removed]",
      "text/plain": [
       "<Figure size 864x576 with 1 Axes>"
      ]
     },
     "metadata": {
      "needs_background": "light"
     },
     "output_type": "display_data"
    }
   ],
   "source": [
    "plt.figure(figsize=(12,8)) # make the figure slightly bigger for better visulization\n",
    "plt.scatter(df['Protein'],df['COVID-19 Rate']) # scatter plot\n",
    "plt.title(\"Protein category scatter plot\")\n",
    "plt.xlabel('Protein Proportion')\n",
    "plt.ylabel('COVID-19 Rate')"
   ]
  },
  {
   "cell_type": "markdown",
   "metadata": {},
   "source": [
    "### Diary:"
   ]
  },
  {
   "cell_type": "code",
   "execution_count": 22,
   "metadata": {},
   "outputs": [
    {
     "data": {
      "text/plain": [
       "Text(0, 0.5, 'COVID-19 Rate')"
      ]
     },
     "execution_count": 22,
     "metadata": {},
     "output_type": "execute_result"
    },
    {
     "data": {
      "image/png": "[encoded data removed]",
      "text/plain": [
       "<Figure size 864x576 with 1 Axes>"
      ]
     },
     "metadata": {
      "needs_background": "light"
     },
     "output_type": "display_data"
    }
   ],
   "source": [
    "plt.figure(figsize=(12,8)) # make the figure slightly bigger for better visulization\n",
    "plt.scatter(df['Diary'],df['COVID-19 Rate']) # scatter plot\n",
    "plt.title(\"Diary category scatter plot\")\n",
    "plt.xlabel('Diary proportion')\n",
    "plt.ylabel('COVID-19 Rate')"
   ]
  },
  {
   "cell_type": "markdown",
   "metadata": {},
   "source": [
    "### Oils:"
   ]
  },
  {
   "cell_type": "code",
   "execution_count": 27,
   "metadata": {},
   "outputs": [
    {
     "data": {
      "text/plain": [
       "Text(0, 0.5, 'COVID-19 Rate')"
      ]
     },
     "execution_count": 27,
     "metadata": {},
     "output_type": "execute_result"
    },
    {
     "data": {
      "image/png": "[encoded data removed]",
      "text/plain": [
       "<Figure size 864x576 with 1 Axes>"
      ]
     },
     "metadata": {
      "needs_background": "light"
     },
     "output_type": "display_data"
    }
   ],
   "source": [
    "plt.figure(figsize=(12,8)) # make the figure slightly bigger for better visulization\n",
    "plt.scatter(df['Oils'],df['COVID-19 Rate']) # scatter plot\n",
    "plt.title(\"Oils category scatter plot\")\n",
    "plt.xlabel('Oils proportion')\n",
    "plt.ylabel('COVID-19 Rate')"
   ]
  },
  {
   "cell_type": "markdown",
   "metadata": {},
   "source": [
    "### Stimulants:"
   ]
  },
  {
   "cell_type": "code",
   "execution_count": 26,
   "metadata": {},
   "outputs": [
    {
     "data": {
      "text/plain": [
       "Text(0, 0.5, 'COVID-19 Rate')"
      ]
     },
     "execution_count": 26,
     "metadata": {},
     "output_type": "execute_result"
    },
    {
     "data": {
      "image/png": "[encoded data removed]",
      "text/plain": [
       "<Figure size 864x576 with 1 Axes>"
      ]
     },
     "metadata": {
      "needs_background": "light"
     },
     "output_type": "display_data"
    }
   ],
   "source": [
    "plt.figure(figsize=(12,8)) # make the figure slightly bigger for better visulization\n",
    "plt.scatter(df['Stimulants'],df['COVID-19 Rate']) # scatter plot\n",
    "plt.title('Stimulants category scatter plot')\n",
    "plt.xlabel('Stimulants proportion')\n",
    "plt.ylabel('COVID-19 Rate')"
   ]
  },
  {
   "cell_type": "markdown",
   "metadata": {},
   "source": [
    "### Spices:"
   ]
  },
  {
   "cell_type": "code",
   "execution_count": 25,
   "metadata": {},
   "outputs": [
    {
     "data": {
      "text/plain": [
       "Text(0, 0.5, 'COVID-19 Rate')"
      ]
     },
     "execution_count": 25,
     "metadata": {},
     "output_type": "execute_result"
    },
    {
     "data": {
      "image/png": "[encoded data removed]",
      "text/plain": [
       "<Figure size 864x576 with 1 Axes>"
      ]
     },
     "metadata": {
      "needs_background": "light"
     },
     "output_type": "display_data"
    }
   ],
   "source": [
    "plt.figure(figsize=(12,8)) # make the figure slightly bigger for better visulization\n",
    "plt.scatter(df['Spices'],df['COVID-19 Rate']) # scatter plot\n",
    "plt.title('Spices category scatter plot')\n",
    "plt.xlabel('Spices proportion')\n",
    "plt.ylabel('COVID-19 Rate')"
   ]
  },
  {
   "cell_type": "markdown",
   "metadata": {},
   "source": [
    "### Alcohol:"
   ]
  },
  {
   "cell_type": "code",
   "execution_count": 23,
   "metadata": {},
   "outputs": [
    {
     "data": {
      "text/plain": [
       "Text(0, 0.5, 'COVID-19 Rate')"
      ]
     },
     "execution_count": 23,
     "metadata": {},
     "output_type": "execute_result"
    },
    {
     "data": {
      "image/png": "[encoded data removed]",
      "text/plain": [
       "<Figure size 864x576 with 1 Axes>"
      ]
     },
     "metadata": {
      "needs_background": "light"
     },
     "output_type": "display_data"
    }
   ],
   "source": [
    "plt.figure(figsize=(12,8)) # make the figure slightly bigger for better visulization\n",
    "plt.scatter(df['Alcohol'],df['COVID-19 Rate']) # scatter plot\n",
    "plt.title('Alcohol category scatter plot')\n",
    "plt.xlabel('Alcohol proportion')\n",
    "plt.ylabel('COVID-19 Rate')"
   ]
  },
  {
   "cell_type": "code",
   "execution_count": null,
   "metadata": {},
   "outputs": [],
   "source": []
  }
 ],
 "metadata": {
  "kernelspec": {
   "display_name": "Python 3",
   "language": "python",
   "name": "python3"
  },
  "language_info": {
   "codemirror_mode": {
    "name": "ipython",
    "version": 3
   },
   "file_extension": ".py",
   "mimetype": "text/x-python",
   "name": "python",
   "nbconvert_exporter": "python",
   "pygments_lexer": "ipython3",
   "version": "3.7.6"
  }
 },
 "nbformat": 4,
 "nbformat_minor": 4
}
